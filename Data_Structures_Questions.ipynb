{
  "nbformat": 4,
  "nbformat_minor": 0,
  "metadata": {
    "colab": {
      "provenance": []
    },
    "kernelspec": {
      "name": "python3",
      "display_name": "Python 3"
    },
    "language_info": {
      "name": "python"
    }
  },
  "cells": [
    {
      "cell_type": "markdown",
      "source": [
        "#Data Types and Structures Questions"
      ],
      "metadata": {
        "id": "EYBe2kdgzmLm"
      }
    },
    {
      "cell_type": "markdown",
      "source": [
        "1. What are data structures, and why are they important?\n",
        "- Data structures are a way to organize and store data so that it can be accessed and manipulated efficiently.\n",
        "\n",
        "- They are important because they help us write faster, cleaner, and more efficient programs.\n",
        "\n",
        "- Using the right data structure can save time, reduce memory usage, and make our code easier to understand and maintain.\n",
        "\n"
      ],
      "metadata": {
        "id": "tN5CuDE0ztpx"
      }
    },
    {
      "cell_type": "markdown",
      "source": [
        "2. Explain the difference between mutable and immutable data types with examples?\n",
        "- Mutable data types are those where the data can be edited, deleted, or replaced after it is created.\n",
        "- On the other hand, immutable data types are those where the data cannot be changed once it is created.\n",
        "- For example, if we have a list like [\"Sandeep\", \"Kuldeep\", \"Rekha\"], we can replace \"Sandeep\" with \"Rahul\", which means lists are mutable.\n",
        "- But if we have a string like \"Rekha\" and we try to change the first letter \"R\" to \"D\", Python will give an error because strings do not allow changes to individual characters. This is why strings are considered immutable."
      ],
      "metadata": {
        "id": "6bLLe4ha1rvX"
      }
    },
    {
      "cell_type": "markdown",
      "source": [
        "3. What are the main differences between lists and tuples in Python?\n",
        "- The main difference between lists and tuples in Python is that lists are mutable, meaning we can change, add, or remove elements after creation, while tuples are immutable, meaning their elements cannot be changed once they are created."
      ],
      "metadata": {
        "id": "z8vybKd335SP"
      }
    },
    {
      "cell_type": "markdown",
      "source": [
        "4. Describe how dictionaries store data?\n",
        "- Dictionaries in Python store data in the form of key-value pairs. Each key is unique, but values can be duplicated. Keys act like labels, and they are used to access the corresponding values. Dictionaries are unordered.dictionaries are mutable, so you can add, update, or delete key-value pairs after creation.\n",
        "\n"
      ],
      "metadata": {
        "id": "Q9AwyaJ_4zCQ"
      }
    },
    {
      "cell_type": "markdown",
      "source": [
        "5. Why might you use a set instead of a list in Python?\n",
        "\n",
        "- We use a set instead of a list in Python when we want to store only unique values and automatically remove duplicates. Sets are also useful when we need to perform operations like union, intersection, or difference, which are not as efficient with lists."
      ],
      "metadata": {
        "id": "cG0MNwGS6Kew"
      }
    },
    {
      "cell_type": "markdown",
      "source": [
        "6. What is a string in Python, and how is it different from a list?\n",
        "- A string in Python is a sequence of characters used to store text like words, sentences, or any combination of letters, numbers, and symbols. It is a non-primitive, immutable data type, meaning once created, its characters cannot be changed.\n",
        "\n",
        "- On the other hand, a list is a collection of items (which can be of any data type) and is mutable, meaning you can add, remove, or change elements in it after creation.\n",
        "\n"
      ],
      "metadata": {
        "id": "ORk4PxZL65op"
      }
    },
    {
      "cell_type": "markdown",
      "source": [
        "7.  How do tuples ensure data integrity in Python?\n",
        "- Tuples ensure data integrity because they are immutable, meaning once a tuple is created, its data cannot be changed, added, or deleted. This immutability protects the data from being accidentally modified during the program. That's why tuples are used when you want to store fixed, constant, or secure data, like dates, coordinates, or configuration settings.\n",
        "\n"
      ],
      "metadata": {
        "id": "nM-pa8i38Xgu"
      }
    },
    {
      "cell_type": "markdown",
      "source": [
        "8. What is a hash table, and how does it relate to dictionaries in Python?\n",
        "- A hash table is a data structure that stores data in key-value pairs, where a special function called a hash function converts the key into a unique index (called a hash value) to store and access the data efficiently.\n",
        "\n",
        "- in Python, a dictionary is implemented using a hash table. When we create a dictionary and add keys, Python uses a hash function to generate a hash value for each key and stores the key-value pair in a way that allows fast access, insertion, and deletion.\n",
        "\n"
      ],
      "metadata": {
        "id": "WaQ88Qnb8q_1"
      }
    },
    {
      "cell_type": "markdown",
      "source": [
        "9. Can lists contain different data types in Python?\n",
        "- Yes, a list in Python is heterogeneous, which means it can store different types of data in the same list."
      ],
      "metadata": {
        "id": "Qp0fOC4K9gQI"
      }
    },
    {
      "cell_type": "markdown",
      "source": [
        "10. Explain why strings are immutable in Python?\n",
        "- Strings in Python are immutable because once they are created, their content cannot be changed. This behavior helps in several ways:\n",
        "\n",
        "- Data Integrity: Since strings cannot be modified, this ensures that the original string remains unchanged throughout the program, avoiding accidental modifications.\n",
        "\n",
        "- Efficiency: Immutability allows Python to optimize memory usage. Multiple references to the same string object can be shared, rather than creating new objects every time, which saves memory and enhances performance.\n",
        "\n",
        "- Hashing: Strings are commonly used as keys in dictionaries. Immutability ensures that their hash value remains consistent, which is essential for the correct functioning of hash-based data structures.\n",
        "\n"
      ],
      "metadata": {
        "id": "I4iMxZtM-C4u"
      }
    },
    {
      "cell_type": "markdown",
      "source": [
        "11. What advantages do dictionaries offer over lists for certain tasks?\n",
        "- Dictionaries offer several advantages over lists for certain tasks. The primary benefit is that dictionaries use a key-value pair structure, which makes accessing and searching for elements much faster than lists, where elements are accessed by their index. Additionally, dictionaries ensure that each key is unique, preventing duplicates, whereas lists allow duplicate values, which might require extra handling. Dictionaries are particularly efficient for lookup operations, as searching for a specific key is typically O(1) in time complexity, while searching in a list requires O(n) time. Furthermore, dictionaries are mutable, meaning that you can easily update the value of an existing key, whereas in lists, you'd need to access elements by index to make changes. Lastly, dictionaries are structured and more readable due to their key-value format, making them more intuitive for representing data with relationships, whereas lists can sometimes be harder to interpret."
      ],
      "metadata": {
        "id": "MQEStuVt_H4E"
      }
    },
    {
      "cell_type": "markdown",
      "source": [
        "12. Describe a scenario where using a tuple would be preferable over a list?\n",
        "- A scenario where using a tuple would be preferable over a list is when you need to store a collection of elements that should not be modified after creation. For example, consider a situation where you are storing the coordinates of a point in a 2D plane, like (x, y). Since the coordinates of the point should remain constant throughout the program (i.e., they should not be changed), a tuple is ideal because it is immutable."
      ],
      "metadata": {
        "id": "FRHTZQwvAeXm"
      }
    },
    {
      "cell_type": "markdown",
      "source": [
        "13. How do sets handle duplicate values in Python?\n",
        "- In Python, sets only allow unique values. If you try to add a duplicate value to a set, the value is ignored, and the set retains only one occurrence of that value. Sets automatically handle duplicates by ensuring that no repeated elements are stored."
      ],
      "metadata": {
        "id": "akK8LPemA3m0"
      }
    },
    {
      "cell_type": "markdown",
      "source": [
        "14. How does the “in” keyword work differently for lists and dictionaries?\n",
        "- For Lists: The in keyword checks if a value (element) exists in the list. It performs a linear search and returns True if the element is found in the list, otherwise it returns False.\n",
        "- For Dictionaries: The in keyword checks if a key exists in the dictionary, not the value. It checks the presence of the key, not whether a particular value is associated with it. If you want to check if a value exists, you would need to use dict.values()."
      ],
      "metadata": {
        "id": "1JlddzF1B8wA"
      }
    },
    {
      "cell_type": "markdown",
      "source": [
        "15. Can you modify the elements of a tuple? Explain why or why not?\n",
        "- No, we cannot modify the elements of a tuple because tuples are immutable data types in Python. Once a tuple is created. If you try to change a value inside a tuple, Python will raise a TypeError."
      ],
      "metadata": {
        "id": "8jAmAKCkCjCN"
      }
    },
    {
      "cell_type": "markdown",
      "source": [
        "16. What is a nested dictionary, and give an example of its use case?\n",
        "- A nested dictionary is a dictionary where the value of one or more keys is another dictionary. This structure allows you to store more complex or hierarchical data, such as data grouped by categories or entities.\n",
        "\n",
        "- Nested dictionaries are useful when you need to represent structured data like:\n",
        "\n",
        "- Records of students with details like name, age, and grade\n",
        "\n",
        "- Employee data in an organization\n",
        "\n",
        "- JSON-like data structures"
      ],
      "metadata": {
        "id": "6AV5kLvbDmTY"
      }
    },
    {
      "cell_type": "markdown",
      "source": [
        "17. Describe the time complexity of accessing elements in a dictionary?\n",
        "- The time complexity of accessing elements in a dictionary in Python is O(1) on average — this means constant time, regardless of the number of items in the dictionary.\n",
        "- Dictionaries in Python are implemented using hash tables. When you access an element using a key, Python computes the hash of the key and directly looks up the corresponding value in memory. This is why access is very fast and does not depend on the size of the dictionary.\n"
      ],
      "metadata": {
        "id": "sKuhJnUpE-dw"
      }
    },
    {
      "cell_type": "markdown",
      "source": [
        "18. In what situations are lists preferred over dictionaries?\n",
        "- Lists are preferred over dictionaries in situations where:\n",
        "\n",
        "- Order Matters: If you need to maintain the order of elements or perform operations based on index positions (like slicing or sorting), lists are more suitable.\n",
        "\n",
        "- Sequential Data: When you're working with a simple collection of items (like a list of numbers, names, or tasks) where each item doesn’t need a label or key, a list is ideal.\n",
        "\n",
        "- Duplicates are Allowed: Lists allow duplicate values, so they are preferred when storing repeated data is necessary.\n",
        "\n",
        "- Memory Efficiency: Lists use less memory than dictionaries because they store only values, not key-value pairs.\n",
        "\n",
        "- Iteration by Position: When you need to iterate over elements using their position or index, lists provide straightforward access."
      ],
      "metadata": {
        "id": "r5xZWIiwFTq7"
      }
    },
    {
      "cell_type": "markdown",
      "source": [
        "19. Why are dictionaries considered unordered, and how does that affect data retrieval?\n",
        "- Dictionaries are considered unordered because, before Python 3.7, they did not maintain the insertion order of key-value pairs. The elements were stored based on the hash of the keys, not the sequence in which they were added. This meant you couldn’t rely on the order when iterating through a dictionary.\n",
        "\n",
        "- Effect on Data Retrieval:\n",
        "\n",
        "- Access by Key: Retrieval by key is still very fast (average-case O(1)) and is not affected by the order.\n",
        "\n",
        "- No Index Access: You cannot access dictionary elements using numerical indices like lists. Instead, you must access them by their keys.\n",
        "\n",
        "- Iteration Order: In versions before Python 3.7, the order in which keys/values were returned during iteration was unpredictable."
      ],
      "metadata": {
        "id": "156tthdFFnVF"
      }
    },
    {
      "cell_type": "markdown",
      "source": [
        "20.  Explain the difference between a list and a dictionary in terms of data retrieval.?\n",
        "- A list retrieves data using an index, which represents the position of the element in the list. This means if you want to access the third item in a list, you use its index 2 (since indexing starts from 0). In contrast, a dictionary retrieves data using a key, which is a unique identifier for each value. This allows for faster and more meaningful access, especially when the data is labeled. For example, retrieving a person's age from a dictionary like person['age'] is more intuitive and efficient than using a list like person[2], where you must remember the position of each piece of data."
      ],
      "metadata": {
        "id": "G928mimaIraK"
      }
    },
    {
      "cell_type": "markdown",
      "source": [
        "#Practical Questions"
      ],
      "metadata": {
        "id": "ubc6IViWJLsU"
      }
    },
    {
      "cell_type": "code",
      "source": [
        "# 1. Write a code to create a string with your name and print it?\n",
        "name=\"Sandeep kumar\"\n",
        "print(name)"
      ],
      "metadata": {
        "colab": {
          "base_uri": "https://localhost:8080/"
        },
        "id": "YbGnj0Ydzqz6",
        "outputId": "eff7edfc-2660-4ac3-beea-bf791db3bdac"
      },
      "execution_count": 1,
      "outputs": [
        {
          "output_type": "stream",
          "name": "stdout",
          "text": [
            "Sandeep kumar\n"
          ]
        }
      ]
    },
    {
      "cell_type": "code",
      "source": [
        "# 2. Write a code to find the length of the string \"Hello World\"?\n",
        "print(len(\"Hello World\"))"
      ],
      "metadata": {
        "colab": {
          "base_uri": "https://localhost:8080/"
        },
        "id": "jGjlch6UUneV",
        "outputId": "70e52046-cb36-43c1-8ce0-1db6eda73270"
      },
      "execution_count": 2,
      "outputs": [
        {
          "output_type": "stream",
          "name": "stdout",
          "text": [
            "11\n"
          ]
        }
      ]
    },
    {
      "cell_type": "code",
      "execution_count": 4,
      "metadata": {
        "colab": {
          "base_uri": "https://localhost:8080/"
        },
        "id": "7SrRGOEUzYI9",
        "outputId": "4bf4eb43-a86c-4530-f7cd-bb9f873af347"
      },
      "outputs": [
        {
          "output_type": "stream",
          "name": "stdout",
          "text": [
            "Pyt\n"
          ]
        }
      ],
      "source": [
        "# 3. Write a code to slice the first 3 characters from the string \"Python Programming\"?\n",
        "String_slice=\"Python Programming\"\n",
        "print(String_slice[:3])"
      ]
    },
    {
      "cell_type": "code",
      "source": [
        "# 4. Write a code to convert the string \"hello\" to uppercase?\n",
        "Upper_case_string=\"hello\"\n",
        "print(Upper_case_string.upper())"
      ],
      "metadata": {
        "colab": {
          "base_uri": "https://localhost:8080/"
        },
        "id": "udpjMeA1VFWr",
        "outputId": "cda07d4d-64b0-4a91-b495-582e6716e155"
      },
      "execution_count": 6,
      "outputs": [
        {
          "output_type": "stream",
          "name": "stdout",
          "text": [
            "HELLO\n"
          ]
        }
      ]
    },
    {
      "cell_type": "code",
      "source": [
        "# 5. Write a code to replace the word \"apple\" with \"orange\" in the string \"I like apple\"?\n",
        "String_word=\"I like apple\"\n",
        "print(String_word.replace(\"apple\",\"orange\"))"
      ],
      "metadata": {
        "colab": {
          "base_uri": "https://localhost:8080/"
        },
        "id": "s6sU8i6PVSaz",
        "outputId": "07417f4d-7c38-4285-b7b4-d1cfb0154380"
      },
      "execution_count": 7,
      "outputs": [
        {
          "output_type": "stream",
          "name": "stdout",
          "text": [
            "I like orange\n"
          ]
        }
      ]
    },
    {
      "cell_type": "code",
      "source": [
        "# 6. Write a code to create a list with numbers 1 to 5 and print it?\n",
        "number_list=[i for i in range(1,6)]\n",
        "print(number_list)"
      ],
      "metadata": {
        "colab": {
          "base_uri": "https://localhost:8080/"
        },
        "id": "cWcitEFIVtMf",
        "outputId": "c882cc0e-75f5-427d-b021-5882f0743935"
      },
      "execution_count": 8,
      "outputs": [
        {
          "output_type": "stream",
          "name": "stdout",
          "text": [
            "[1, 2, 3, 4, 5]\n"
          ]
        }
      ]
    },
    {
      "cell_type": "code",
      "source": [
        "# 7. Write a code to append the number 10 to the list [1, 2, 3, 4]?\n",
        "original_list=[1,2,3,4]\n",
        "original_list.append(10)\n",
        "original_list"
      ],
      "metadata": {
        "colab": {
          "base_uri": "https://localhost:8080/"
        },
        "id": "84zyJie5V-K9",
        "outputId": "db5221a6-f46b-4162-bf7b-a62f9791216b"
      },
      "execution_count": 15,
      "outputs": [
        {
          "output_type": "execute_result",
          "data": {
            "text/plain": [
              "[1, 2, 3, 4, 10]"
            ]
          },
          "metadata": {},
          "execution_count": 15
        }
      ]
    },
    {
      "cell_type": "code",
      "source": [
        "# 8.  Write a code to remove the number 3 from the list [1, 2, 3, 4, 5]?\n",
        "original_list=[1,2,3,4,5]\n",
        "original_list.remove(3)\n",
        "original_list"
      ],
      "metadata": {
        "colab": {
          "base_uri": "https://localhost:8080/"
        },
        "id": "V7qw_VsMWBC9",
        "outputId": "4bc13dc7-1bd3-4e8a-c44d-db0134f2205c"
      },
      "execution_count": 16,
      "outputs": [
        {
          "output_type": "execute_result",
          "data": {
            "text/plain": [
              "[1, 2, 4, 5]"
            ]
          },
          "metadata": {},
          "execution_count": 16
        }
      ]
    },
    {
      "cell_type": "code",
      "source": [
        "# 9. Write a code to access the second element in the list ['a', 'b', 'c', 'd']?\n",
        "original_list=['a', 'b', 'c', 'd']\n",
        "print(original_list[1])"
      ],
      "metadata": {
        "colab": {
          "base_uri": "https://localhost:8080/"
        },
        "id": "73jWXa7eWs1a",
        "outputId": "38f60732-21fb-4d5e-e655-221abc29c113"
      },
      "execution_count": 17,
      "outputs": [
        {
          "output_type": "stream",
          "name": "stdout",
          "text": [
            "b\n"
          ]
        }
      ]
    },
    {
      "cell_type": "code",
      "source": [
        "# 10.  Write a code to reverse the list [10, 20, 30, 40, 50]?\n",
        "original_list=[10, 20, 30, 40, 50]\n",
        "original_list[::-1]"
      ],
      "metadata": {
        "colab": {
          "base_uri": "https://localhost:8080/"
        },
        "id": "nSY67CxFXACL",
        "outputId": "21d23762-3490-4833-ab23-ff5269fed412"
      },
      "execution_count": 18,
      "outputs": [
        {
          "output_type": "execute_result",
          "data": {
            "text/plain": [
              "[50, 40, 30, 20, 10]"
            ]
          },
          "metadata": {},
          "execution_count": 18
        }
      ]
    },
    {
      "cell_type": "code",
      "source": [
        "# 11. Write a code to create a tuple with the elements 100, 200, 300 and print it?\n",
        "tuple_number=(100,200,300)\n",
        "print(tuple_number)\n",
        "print(type(tuple_number))"
      ],
      "metadata": {
        "colab": {
          "base_uri": "https://localhost:8080/"
        },
        "id": "RBOKTrHqXN2-",
        "outputId": "c189f220-f043-42c6-dcc0-0198bc61e5ab"
      },
      "execution_count": 20,
      "outputs": [
        {
          "output_type": "stream",
          "name": "stdout",
          "text": [
            "(100, 200, 300)\n",
            "<class 'tuple'>\n"
          ]
        }
      ]
    },
    {
      "cell_type": "code",
      "source": [
        "# 12. Write a code to access the second-to-last element of the tuple ('red', 'green', 'blue', 'yellow').?\n",
        "word_tuple=('red', 'green', 'blue', 'yellow')\n",
        "print(word_tuple[1:])"
      ],
      "metadata": {
        "colab": {
          "base_uri": "https://localhost:8080/"
        },
        "id": "E4xnCtsDXTtW",
        "outputId": "fdd6520d-caec-441c-d846-b38732a0760b"
      },
      "execution_count": 21,
      "outputs": [
        {
          "output_type": "stream",
          "name": "stdout",
          "text": [
            "('green', 'blue', 'yellow')\n"
          ]
        }
      ]
    },
    {
      "cell_type": "code",
      "source": [
        "# 13. Write a code to find the minimum number in the tuple (10, 20, 5, 15).?\n",
        "number_tuple=(10, 20, 5, 15)\n",
        "print(min(number_tuple))"
      ],
      "metadata": {
        "colab": {
          "base_uri": "https://localhost:8080/"
        },
        "id": "qwShJtleXsVQ",
        "outputId": "396bb94a-a447-4c20-a9ae-d796ada0fdaa"
      },
      "execution_count": 23,
      "outputs": [
        {
          "output_type": "stream",
          "name": "stdout",
          "text": [
            "5\n"
          ]
        }
      ]
    },
    {
      "cell_type": "code",
      "source": [
        "# 14. Write a code to find the index of the element \"cat\" in the tuple ('dog', 'cat', 'rabbit').?\n",
        "word_tuple=('dog', 'cat', 'rabbit')\n",
        "print(word_tuple.index('cat'))"
      ],
      "metadata": {
        "colab": {
          "base_uri": "https://localhost:8080/"
        },
        "id": "zWOd8shuX90I",
        "outputId": "ec99d3f8-2891-45b3-a618-ab6693e7264a"
      },
      "execution_count": 25,
      "outputs": [
        {
          "output_type": "stream",
          "name": "stdout",
          "text": [
            "1\n"
          ]
        }
      ]
    },
    {
      "cell_type": "code",
      "source": [
        "# 15. Write a code to create a tuple containing three different fruits and check if \"kiwi\" is in it.?\n",
        "fruit_tuple=(\"apple\",\"banana\",\"kiwi\",\"orange\")\n",
        "if \"kiwi\" in fruit_tuple:\n",
        "  print(\"yes\")\n",
        "else:\n",
        "  print(\"NO\")"
      ],
      "metadata": {
        "colab": {
          "base_uri": "https://localhost:8080/"
        },
        "id": "GLj4xxhdYLSE",
        "outputId": "e6d29ada-1b7e-4e4f-c3f5-b4b9941bfd1e"
      },
      "execution_count": 26,
      "outputs": [
        {
          "output_type": "stream",
          "name": "stdout",
          "text": [
            "yes\n"
          ]
        }
      ]
    },
    {
      "cell_type": "code",
      "source": [
        "# 16. Write a code to create a set with the elements 'a', 'b', 'c' and print it.?\n",
        "char_set={'a','b','c'}\n",
        "print(char_set)"
      ],
      "metadata": {
        "colab": {
          "base_uri": "https://localhost:8080/"
        },
        "id": "I0UCyNcoYmua",
        "outputId": "01808ece-874e-4c23-ea8d-78b3416f0e0f"
      },
      "execution_count": 28,
      "outputs": [
        {
          "output_type": "stream",
          "name": "stdout",
          "text": [
            "{'b', 'a', 'c'}\n"
          ]
        }
      ]
    },
    {
      "cell_type": "code",
      "source": [
        "# 17. Write a code to clear all elements from the set {1, 2, 3, 4, 5}.?\n",
        "number_set={1, 2, 3, 4, 5}\n",
        "number_set.clear()\n",
        "number_set"
      ],
      "metadata": {
        "colab": {
          "base_uri": "https://localhost:8080/"
        },
        "id": "zknj75peY1BC",
        "outputId": "52a6dd4b-15d5-4daa-90b0-68923ca97ee5"
      },
      "execution_count": 30,
      "outputs": [
        {
          "output_type": "execute_result",
          "data": {
            "text/plain": [
              "set()"
            ]
          },
          "metadata": {},
          "execution_count": 30
        }
      ]
    },
    {
      "cell_type": "code",
      "source": [
        "# 18. Write a code to remove the element 4 from the set {1, 2, 3, 4}.?\n",
        "number_set={1, 2, 3, 4}\n",
        "number_set.remove(4)\n",
        "number_set"
      ],
      "metadata": {
        "colab": {
          "base_uri": "https://localhost:8080/"
        },
        "id": "3rOWrXUyZCq3",
        "outputId": "bed3f4a5-eb40-4f6a-ace0-7c7106aaa843"
      },
      "execution_count": 33,
      "outputs": [
        {
          "output_type": "execute_result",
          "data": {
            "text/plain": [
              "{1, 2, 3}"
            ]
          },
          "metadata": {},
          "execution_count": 33
        }
      ]
    },
    {
      "cell_type": "code",
      "source": [
        "# 19. Write a code to find the union of two sets {1, 2, 3} and {3, 4, 5}.?\n",
        "set_one={1, 2, 3}\n",
        "set_two={3, 4, 5}\n",
        "set_one.union(set_two)"
      ],
      "metadata": {
        "colab": {
          "base_uri": "https://localhost:8080/"
        },
        "id": "LtavYc79ZNxP",
        "outputId": "682cda8b-dbd0-4fa2-e53f-5533e7ee5d63"
      },
      "execution_count": 34,
      "outputs": [
        {
          "output_type": "execute_result",
          "data": {
            "text/plain": [
              "{1, 2, 3, 4, 5}"
            ]
          },
          "metadata": {},
          "execution_count": 34
        }
      ]
    },
    {
      "cell_type": "code",
      "source": [
        "# 20. Write a code to find the intersection of two sets {1, 2, 3} and {2, 3, 4}.?\n",
        "set_one={1,2,3}\n",
        "set_two={2,3,4}\n",
        "set_one.intersection(set_two)"
      ],
      "metadata": {
        "colab": {
          "base_uri": "https://localhost:8080/"
        },
        "id": "bNbup2dAZmSw",
        "outputId": "dc6452be-d8ec-4e74-8959-6388ccf24c7c"
      },
      "execution_count": 35,
      "outputs": [
        {
          "output_type": "execute_result",
          "data": {
            "text/plain": [
              "{2, 3}"
            ]
          },
          "metadata": {},
          "execution_count": 35
        }
      ]
    },
    {
      "cell_type": "code",
      "source": [
        "# 21. Write a code to create a dictionary with the keys \"name\", \"age\", and \"city\", and print it?\n",
        "personal_dict={\"name\":\"sandeep\",\"age\":23,\"city\":\"varansi\"}\n",
        "print(personal_dict)"
      ],
      "metadata": {
        "colab": {
          "base_uri": "https://localhost:8080/"
        },
        "id": "LasDnSSbZzOa",
        "outputId": "ef32d2f9-aa25-4347-ceaf-c4782f3e8f84"
      },
      "execution_count": 38,
      "outputs": [
        {
          "output_type": "stream",
          "name": "stdout",
          "text": [
            "{'name': 'sandeep', 'age': 23, 'city': 'varansi'}\n"
          ]
        }
      ]
    },
    {
      "cell_type": "code",
      "source": [
        "# 22. Write a code to add a new key-value pair \"country\": \"USA\" to the dictionary {'name': 'John', 'age': 25}.?\n",
        "new_dict={'name': 'John', 'age': 25}\n",
        "new_dict[\"country\"]=\"USA\"\n",
        "new_dict"
      ],
      "metadata": {
        "colab": {
          "base_uri": "https://localhost:8080/"
        },
        "id": "GYGGfmUeac9F",
        "outputId": "86ef7337-eef0-4876-8bc1-a8c1370c65b0"
      },
      "execution_count": 39,
      "outputs": [
        {
          "output_type": "execute_result",
          "data": {
            "text/plain": [
              "{'name': 'John', 'age': 25, 'country': 'USA'}"
            ]
          },
          "metadata": {},
          "execution_count": 39
        }
      ]
    },
    {
      "cell_type": "code",
      "source": [
        "# 23. Write a code to access the value associated with the key \"name\" in the dictionary {'name': 'Alice', 'age': 30}.?\n",
        "new_dict={'name': 'Alice', 'age': 30}\n",
        "new_dict[\"name\"]"
      ],
      "metadata": {
        "colab": {
          "base_uri": "https://localhost:8080/",
          "height": 35
        },
        "id": "SNeH1NgzatGU",
        "outputId": "c11c36bc-e374-43ea-aa1b-e6b88a43ed2d"
      },
      "execution_count": 40,
      "outputs": [
        {
          "output_type": "execute_result",
          "data": {
            "text/plain": [
              "'Alice'"
            ],
            "application/vnd.google.colaboratory.intrinsic+json": {
              "type": "string"
            }
          },
          "metadata": {},
          "execution_count": 40
        }
      ]
    },
    {
      "cell_type": "code",
      "source": [
        "# 24. Write a code to remove the key \"age\" from the dictionary {'name': 'Bob', 'age': 22, 'city': 'New York'}.?\n",
        "new_dict= {'name': 'Bob', 'age': 22, 'city': 'New York'}\n",
        "new_dict.pop(\"age\")\n",
        "new_dict"
      ],
      "metadata": {
        "colab": {
          "base_uri": "https://localhost:8080/"
        },
        "id": "x6EjZ354a37M",
        "outputId": "ff3b8f6a-a320-4d5b-e8b1-c9a7fde70009"
      },
      "execution_count": 47,
      "outputs": [
        {
          "output_type": "execute_result",
          "data": {
            "text/plain": [
              "{'name': 'Bob', 'city': 'New York'}"
            ]
          },
          "metadata": {},
          "execution_count": 47
        }
      ]
    },
    {
      "cell_type": "code",
      "source": [
        "# 25. Write a code to check if the key \"city\" exists in the dictionary {'name': 'Alice', 'city': 'Paris'}.?\n",
        "new_dict={'name': 'Alice', 'city': 'Paris'}\n",
        "if 'city' in new_dict:\n",
        "  print(\"yes\")\n",
        "else:\n",
        "  print(\"NO\")"
      ],
      "metadata": {
        "colab": {
          "base_uri": "https://localhost:8080/"
        },
        "id": "bqNOwX57biNV",
        "outputId": "0bd2de6e-3bfe-4ca6-be1b-af4ff9905aba"
      },
      "execution_count": 48,
      "outputs": [
        {
          "output_type": "stream",
          "name": "stdout",
          "text": [
            "yes\n"
          ]
        }
      ]
    },
    {
      "cell_type": "code",
      "source": [
        "# 26. Write a code to create a list, a tuple, and a dictionary, and print them all.?\n",
        "List_of_name=[\"sandeep\",\"Neha\",\"Rahul\",\"Ranjeet\"]\n",
        "tuple_of_name=(\"Sumna\",\"Dhirja\",\"Ram\",\"Sita\")\n",
        "dict_of_Stufent={\"name\":\"Sandeep\",\"age\":23,\"city\":\"parsathua\"}\n",
        "print(List_of_name)\n",
        "print(tuple_of_name)\n",
        "print(dict_of_Stufent)"
      ],
      "metadata": {
        "colab": {
          "base_uri": "https://localhost:8080/"
        },
        "id": "i3mIL9Xnb49v",
        "outputId": "b30a59fb-3562-48a1-e725-69fcb3ef21b8"
      },
      "execution_count": 50,
      "outputs": [
        {
          "output_type": "stream",
          "name": "stdout",
          "text": [
            "['sandeep', 'Neha', 'Rahul', 'Ranjeet']\n",
            "('Sumna', 'Dhirja', 'Ram', 'Sita')\n",
            "{'name': 'Sandeep', 'age': 23, 'city': 'parsathua'}\n"
          ]
        }
      ]
    },
    {
      "cell_type": "code",
      "source": [
        "# 27. Write a code to create a list of 5 random numbers between 1 and 100, sort it in ascending order, and print the result.(replaced)?\n",
        "import random\n",
        "numbers = random.sample(range(1, 101), 5)\n",
        "sorted(numbers)\n",
        "# or\n",
        "# numbers.sort()\n",
        "# numbers"
      ],
      "metadata": {
        "colab": {
          "base_uri": "https://localhost:8080/"
        },
        "id": "iYU-AW9jcasD",
        "outputId": "c46e6f2e-f686-48c0-a502-e944e4ad0463"
      },
      "execution_count": 61,
      "outputs": [
        {
          "output_type": "execute_result",
          "data": {
            "text/plain": [
              "[3, 24, 30, 50, 97]"
            ]
          },
          "metadata": {},
          "execution_count": 61
        }
      ]
    },
    {
      "cell_type": "code",
      "source": [
        "# 28. Write a code to create a list with strings and print the element at the third index?\n",
        "String_list=[\"sandeep\",\"mohan\",\"nisha\",\"neha\",'pappu']\n",
        "String_list[3]"
      ],
      "metadata": {
        "colab": {
          "base_uri": "https://localhost:8080/",
          "height": 35
        },
        "id": "v_iVh-ZCcyof",
        "outputId": "68fc9f94-6cca-46c3-811d-ffaca4585bab"
      },
      "execution_count": 67,
      "outputs": [
        {
          "output_type": "execute_result",
          "data": {
            "text/plain": [
              "'neha'"
            ],
            "application/vnd.google.colaboratory.intrinsic+json": {
              "type": "string"
            }
          },
          "metadata": {},
          "execution_count": 67
        }
      ]
    },
    {
      "cell_type": "code",
      "source": [
        "# 29. Write a code to combine two dictionaries into one and print the result.?\n",
        "dict_one={\"name\":\"sandeep\"}\n",
        "dict_two={\"age\":23}\n",
        "dict_one.update(dict_two)\n",
        "dict_one"
      ],
      "metadata": {
        "colab": {
          "base_uri": "https://localhost:8080/"
        },
        "id": "cxBdEFANeEGC",
        "outputId": "7666d449-fa5d-4d52-c8f4-0e6693818a6f"
      },
      "execution_count": 69,
      "outputs": [
        {
          "output_type": "execute_result",
          "data": {
            "text/plain": [
              "{'name': 'sandeep', 'age': 23}"
            ]
          },
          "metadata": {},
          "execution_count": 69
        }
      ]
    },
    {
      "cell_type": "code",
      "source": [
        "# 30. Write a code to convert a list of strings into a set.?\n",
        "String_name_list=[\"sandeep\",\"mohan\",\"nisha\",\"neha\",'pappu',\"pappu\",\"sandeep\"]\n",
        "set_of_string=set(String_name_list)\n",
        "set_of_string"
      ],
      "metadata": {
        "colab": {
          "base_uri": "https://localhost:8080/"
        },
        "id": "l0VxtScgeZP8",
        "outputId": "b0c6367d-9c0b-4074-e814-a2fc33b385d5"
      },
      "execution_count": 71,
      "outputs": [
        {
          "output_type": "execute_result",
          "data": {
            "text/plain": [
              "{'mohan', 'neha', 'nisha', 'pappu', 'sandeep'}"
            ]
          },
          "metadata": {},
          "execution_count": 71
        }
      ]
    }
  ]
}